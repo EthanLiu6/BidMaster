{
 "cells": [
  {
   "cell_type": "markdown",
   "id": "7531ce6b-c186-4c84-9f37-05f2307d585d",
   "metadata": {},
   "source": [
    "# 整体结构"
   ]
  },
  {
   "cell_type": "code",
   "execution_count": 42,
   "id": "145017fe-27a2-48a8-bd38-381761628ae0",
   "metadata": {},
   "outputs": [],
   "source": [
    "from docx import Document\n",
    "import pdfplumber\n",
    "import sys\n",
    "import os\n",
    "from pathlib import Path"
   ]
  },
  {
   "cell_type": "markdown",
   "id": "8902ca79-3cc9-43b4-a890-8ad8ed6f7a26",
   "metadata": {},
   "source": [
    "### word数据读取"
   ]
  },
  {
   "cell_type": "code",
   "execution_count": 5,
   "id": "3e778410-032b-418c-b1c2-5a736b2fd421",
   "metadata": {},
   "outputs": [],
   "source": [
    "def read_docx(docx_path):\n",
    "\n",
    "    doc = Document(docx_path)\n",
    "    full_text = []\n",
    "    for para in doc.paragraphs:\n",
    "        full_text.append(para.text)\n",
    "    return ''.join(full_text)"
   ]
  },
  {
   "cell_type": "markdown",
   "id": "f622d07b-4482-4c4a-8790-a7ed84f27726",
   "metadata": {},
   "source": [
    "### PDF数据读取和清洗"
   ]
  },
  {
   "cell_type": "code",
   "execution_count": 1,
   "id": "980b3f66-1d5c-4881-8339-5679e1326324",
   "metadata": {},
   "outputs": [],
   "source": [
    "import re\n",
    "\n",
    "def clean_pdf_text(text):\n",
    "    \"\"\"\n",
    "    专业法律条文清洗函数\n",
    "    处理特点：\n",
    "    1. 保留完整的条款编号（如\"第三十四条\"）\n",
    "    2. 规范化法律条文中的特殊格式（如\"（一）\"等）\n",
    "    3. 处理中文数字和阿拉伯数字混用情况\n",
    "    4. 智能分段和换行处理\n",
    "    \"\"\"\n",
    "    # 1. 去除页眉页脚和网页信息\n",
    "    text = re.sub(r'\\d{4}/\\d{1,2}/\\d{1,2} \\d{1,2}:\\d{2}', '', text)  # 去除日期时间\n",
    "    text = re.sub(r'第.*?国务院公报.*?政府网', '', text)\n",
    "    text = re.sub(r'\\d+/\\d+', '', text)  # 去除页码\n",
    "    \n",
    "    # 2. 条款编号规范化处理\n",
    "    text = re.sub(r'第([一二三四五六七八九十百千]+)条', r'\\n第\\1条 ', text)\n",
    "    \n",
    "    # 3. 处理中文数字和阿拉伯数字混用（如\"第三十四\"和\"34\"）\n",
    "    text = re.sub(r'第([0-9]+)条', lambda m: f'第{num2chinese(m.group(1))}条', text)\n",
    "    \n",
    "    # 4. 法律条文特殊格式处理\n",
    "    text = re.sub(r'（([一二三四五六七八九十])）', r'（\\1）', text)  # 统一括号格式\n",
    "    text = re.sub(r'([。；])\\s*', r'\\1\\n', text)  # 句号和分号后换行\n",
    "    \n",
    "    # 5. 处理列表项格式\n",
    "    text = re.sub(r'([（(][一二三四五六七八九十]+[）)])', r'\\n\\1', text)\n",
    "    \n",
    "    # 6. 去除多余空行但保留段落分隔\n",
    "    text = re.sub(r'\\n\\s*\\n', '\\n\\n', text)\n",
    "    text = re.sub(r'[ \\t]+', ' ', text)  # 压缩空格\n",
    "    \n",
    "    # 7. 章节标题处理\n",
    "    text = re.sub(r'第[一二三四五六七八九十]+章\\s+.+', r'\\n\\g<0>\\n', text)\n",
    "    \n",
    "    # 8. 去网页垃圾字符\n",
    "    text = re.sub(r'http[s]\\S+', '', text)\n",
    "    text = re.sub(r'©|®|™|•', '', text)\n",
    "    \n",
    "    return text.strip()"
   ]
  },
  {
   "cell_type": "code",
   "execution_count": 160,
   "id": "afb020f8-4fb0-473f-b4ee-524396f6bd98",
   "metadata": {},
   "outputs": [],
   "source": [
    "# import re\n",
    "\n",
    "# def clean_pdf_text(text):\n",
    "#     \"\"\"\n",
    "#     文本清洗\n",
    "#     \"\"\"\n",
    "#     # 去除特殊字符但保留中文标点\n",
    "#     text = re.sub(r'[^\\w\\u4e00-\\u9fff，。、；：？！「」『』（）《》【】\\s]', '', text)\n",
    "#     # 规范化空白字符\n",
    "#     text = re.sub(r'\\s+', ' ', text)\n",
    "#     # 处理错误换行（英文单词）\n",
    "#     text = re.sub(r'(\\w)-\\s+(\\w)', r'\\1\\2', text)\n",
    "#     # 处理错误换行（中文）\n",
    "#     text = re.sub(r'([\\u4e00-\\u9fff])\\s+([\\u4e00-\\u9fff])', r'\\1\\2', text)\n",
    "#     return text.strip()"
   ]
  },
  {
   "cell_type": "code",
   "execution_count": 161,
   "id": "374baa7c-1e16-4af7-835d-c3d246196440",
   "metadata": {},
   "outputs": [],
   "source": [
    "def read_pdf(pdf_path):\n",
    "    \"\"\"\n",
    "    基础文本提取\n",
    "    :param pdf_path: PDF文件路径\n",
    "    :return: 提取的文本字典 {page_num: text}\n",
    "    \"\"\"\n",
    "    text_dict = {}\n",
    "    with pdfplumber.open(pdf_path) as pdf:\n",
    "        for i, page in enumerate(pdf.pages):\n",
    "            text = page.extract_text()\n",
    "            if text:  # 过滤空页\n",
    "                text = clean_pdf_text(text)\n",
    "                text_dict[i+1] = text\n",
    "                \n",
    "    return text_dict"
   ]
  },
  {
   "cell_type": "markdown",
   "id": "f56c1a2f-f74f-40a8-9a81-fa76c0f01f51",
   "metadata": {},
   "source": [
    "### 测试两种文档"
   ]
  },
  {
   "cell_type": "code",
   "execution_count": 162,
   "id": "3d56c9f5-4fa1-4445-b4d2-273a06db0bcb",
   "metadata": {},
   "outputs": [],
   "source": [
    "docx_demo = r'../../knowledge/raw_knowledge/laws/中华人民共和国招标投标法实施条例.docx'\n",
    "pdf_demo = r'../../knowledge/raw_knowledge/laws/中华人民共和国财政部令（第74号）_政府采购非招标采购方式管理办法_2014年第9号国务院公报_中国政府网.pdf'\n",
    "# pdf_demo = r'../../knowledge/raw_knowledge/laws/中华人民共和国财政部令（第94号）政府采购质疑和投诉办法_2018年第13号国务院公报_中国政府网.pdf'"
   ]
  },
  {
   "cell_type": "code",
   "execution_count": 163,
   "id": "1ef753f5-8c78-4d12-a570-c2df9a36ecc6",
   "metadata": {},
   "outputs": [
    {
     "name": "stdout",
     "output_type": "stream",
     "text": [
      "/Users/ethanliu/Documents/LLM项目/BidMaster/src/pipline\n"
     ]
    }
   ],
   "source": [
    "!pwd"
   ]
  },
  {
   "cell_type": "code",
   "execution_count": 164,
   "id": "ca30872d-b75e-441e-aa6e-f37445a7d406",
   "metadata": {},
   "outputs": [],
   "source": [
    "docxs = read_docx(docx_demo)"
   ]
  },
  {
   "cell_type": "code",
   "execution_count": 165,
   "id": "93c8523b-64fb-4866-b867-e055924da7f3",
   "metadata": {},
   "outputs": [
    {
     "data": {
      "text/plain": [
       "'中华人民共和国招标投标法实施条例(201'"
      ]
     },
     "execution_count": 165,
     "metadata": {},
     "output_type": "execute_result"
    }
   ],
   "source": [
    "docxs[:20]"
   ]
  },
  {
   "cell_type": "code",
   "execution_count": 166,
   "id": "c19abdcb-2cfc-409f-9001-662539a51653",
   "metadata": {},
   "outputs": [
    {
     "name": "stderr",
     "output_type": "stream",
     "text": [
      "CropBox missing from /Page, defaulting to MediaBox\n",
      "CropBox missing from /Page, defaulting to MediaBox\n",
      "CropBox missing from /Page, defaulting to MediaBox\n",
      "CropBox missing from /Page, defaulting to MediaBox\n",
      "CropBox missing from /Page, defaulting to MediaBox\n",
      "CropBox missing from /Page, defaulting to MediaBox\n",
      "CropBox missing from /Page, defaulting to MediaBox\n",
      "CropBox missing from /Page, defaulting to MediaBox\n",
      "CropBox missing from /Page, defaulting to MediaBox\n",
      "CropBox missing from /Page, defaulting to MediaBox\n",
      "CropBox missing from /Page, defaulting to MediaBox\n",
      "CropBox missing from /Page, defaulting to MediaBox\n",
      "CropBox missing from /Page, defaulting to MediaBox\n",
      "CropBox missing from /Page, defaulting to MediaBox\n",
      "CropBox missing from /Page, defaulting to MediaBox\n",
      "CropBox missing from /Page, defaulting to MediaBox\n",
      "CropBox missing from /Page, defaulting to MediaBox\n",
      "CropBox missing from /Page, defaulting to MediaBox\n",
      "CropBox missing from /Page, defaulting to MediaBox\n",
      "CropBox missing from /Page, defaulting to MediaBox\n"
     ]
    }
   ],
   "source": [
    "pdfs = read_pdf(pdf_demo)"
   ]
  },
  {
   "cell_type": "code",
   "execution_count": 167,
   "id": "bd832414-d3fb-41ab-9118-1ffbf1585772",
   "metadata": {},
   "outputs": [
    {
     "data": {
      "text/plain": [
       "dict_keys([1, 2, 3, 4, 5, 6, 7, 8, 9, 10])"
      ]
     },
     "execution_count": 167,
     "metadata": {},
     "output_type": "execute_result"
    }
   ],
   "source": [
    "pdfs.keys()"
   ]
  },
  {
   "cell_type": "code",
   "execution_count": 168,
   "id": "c28b16a3-55e2-4fc8-91b5-b7d09a62ccbd",
   "metadata": {},
   "outputs": [
    {
     "data": {
      "text/plain": [
       "'中华⼈民共和国财政部令（第74号） 政府采购⾮招标采购⽅式管理办法__2014年第9号国务院公报_中国政府⽹\\n\\n（三）达到公开招标数额标准、经批准采⽤⾮公开招标⽅式的货物、服务；\\n\\n（四）按照招标投标法及其实施条例必须进⾏招标的⼯程建设项⽬以外的政府\\n采购⼯程。\\n第⼆章 ⼀般规定\\n第\\n第四四条 条 达到公开招标数额标准的货物、服务采购项⽬，拟采⽤⾮招标采购\\n⽅式的，采购⼈应当在采购活动开始前，报经主管预算单位同意后，向设区的\\n市、⾃治州以上⼈⺠政府财政部⻔申请批准。\\n第\\n第五五条 条 根据本办法\\n第四条 申请采⽤⾮招标采购⽅式采购的，采购⼈应当向\\n财政部⻔提交以下材料并对材料的真实性负责：\\n（⼀）采购⼈名称、采购项⽬名称、项⽬概况等项⽬基本情况说明；\\n（⼆）项⽬预算⾦额、预算批复⽂件或者资⾦来源证明；\\n\\n（三）拟申请采⽤的采购⽅式和理由。\\n第\\n第六六条 条 采购⼈、采购代理机构应当按照政府采购法和本办法的规定组织开\\n展⾮招标采购活动，并采取必要措施，保证评审在严格保密的情况下进⾏。\\n任何单位和个⼈不得⾮法⼲预、影响评审过程和结果。\\n第\\n第七七条 条 竞争性谈判⼩组或者询价⼩组由采购⼈代表和评审专家共3⼈以上单\\n数组成，其中评审专家⼈数不得少于竞争性谈判⼩组或者询价⼩组成员总数的\\n。\\n采购⼈不得以评审专家身份参加本部⻔或本单位采购项⽬的评审。\\n采购代理\\n机构⼈员不得参加本机构代理的采购项⽬的评审。\\n达到公开招标数额标准的货物或者服务采购项⽬，或者达到招标规模标准的\\n政府采购⼯程，竞争性谈判⼩组或者询价⼩组应当由5⼈以上单数组成。\\n采⽤竞争性谈判、询价⽅式采购的政府采购项⽬，评审专家应当从政府采购\\n评审专家库内相关专业的专家名单中随机抽取。\\n技术复杂、专业性强的竞争性谈\\n判采购项⽬，通过随机⽅式难以确定合适的评审专家的，经主管预算单位同意，\\n可以⾃⾏选定评审专家。\\n技术复杂、专业性强的竞争性谈判采购项⽬，评审专家\\n中应当包含1名法律专家。\\n第第⼋⼋条条 竞争性谈判⼩组或者询价⼩组在采购活动过程中应当履⾏下列职\\n责：\\n（⼀）确认或者制定谈判⽂件、询价通知书；\\n（⼆）从符合相应资格条件的供应商名单中确定不少于3家的供应商参加谈判\\n或者询价；\\n\\n（三）审查供应商的响应⽂件并作出评价；\\n\\n（四）要求供应商解释或者澄清其响应⽂件；\\n\\n（五）编写评审报告；\\n\\n（六）告知采购⼈、采购代理机构在评审过程中发现的供应商的违法违规⾏\\n为。\\n第\\n第九九条 条 竞争性谈判⼩组或者询价⼩组成员应当履⾏下列义务：\\n（⼀）遵纪守法，客观、公正、廉洁地履⾏职责；\\n（⼆）根据采购⽂件的规定独⽴进⾏评审，对个⼈的评审意⻅承担法律责任；\\n\\n（三）参与评审报告的起草；'"
      ]
     },
     "execution_count": 168,
     "metadata": {},
     "output_type": "execute_result"
    }
   ],
   "source": [
    "pdfs[2]"
   ]
  },
  {
   "cell_type": "markdown",
   "id": "760ea79c-b8db-4c23-9119-09e6a387c797",
   "metadata": {},
   "source": [
    "## 向量化及其存储"
   ]
  },
  {
   "cell_type": "markdown",
   "id": "670054c7-633e-42aa-a347-96ddfa25c3f0",
   "metadata": {},
   "source": [
    "### 向量化处理"
   ]
  },
  {
   "cell_type": "code",
   "execution_count": 171,
   "id": "7bdaaa23-1aca-486d-b2bd-43b745bdefd2",
   "metadata": {},
   "outputs": [],
   "source": [
    "from sentence_transformers import SentenceTransformer\n",
    "\n",
    "model = SentenceTransformer('moka-ai/m3e-base')"
   ]
  },
  {
   "cell_type": "code",
   "execution_count": 192,
   "id": "31e61d79-221c-4465-94d3-099b1a2a5d82",
   "metadata": {},
   "outputs": [
    {
     "data": {
      "text/plain": [
       "'中华⼈民共和国财政部令（第74号） 政府采购⾮招标采购⽅式管理办法__2014年第9号国务院公报_中国政府⽹\\n中中华华⼈⼈⺠⺠共共和和国国财财政政部部令令\\n第 7744 号\\n《政府采购⾮招标采购⽅式管理办法》已经2013年10⽉28⽇财政部部务会议审\\n议通过，现予公布，⾃2014年2⽉1⽇起施⾏。\\n部 ⻓ 楼继伟\\n2013年12⽉19⽇\\n政政府府采采购购⾮⾮招招标标采采购购⽅⽅式式管管理理办办法法\\n第⼀章 总 则\\n第第⼀⼀条条 为了规范政府采购⾏为，加强对采⽤⾮招标采购⽅式采购活动的监\\n督管理，维护国家利益、社会公共利益和政府采购当事⼈的合法权益，依据《中\\n华⼈⺠共和国政府采购法》（以下简称政府采购法）和其他法律、⾏政法规的有关\\n规定，制定本办法。\\n第第⼆⼆条条 采购⼈、采购代理机构采⽤⾮招标采购⽅式采购货物、⼯程和服务\\n的，适⽤本办法。\\n本办法所称⾮招标采购⽅式，是指竞争性谈判、单⼀来源采购和询价采购⽅\\n式。\\n竞争性谈判是指谈判⼩组与符合资格条件的供应商就采购货物、⼯程和服务\\n事宜进⾏谈判，供应商按照谈判⽂件的要求提交响应⽂件和最后报价，采购⼈从\\n谈判⼩组提出的成交候选⼈中确定成交供应商的采购⽅式。\\n单⼀来源采购是指采购⼈从某⼀特定供应商处采购货物、⼯程和服务的采购\\n⽅式。\\n询价是指询价⼩组向符合资格条件的供应商发出采购货物询价通知书，要求\\n供应商⼀次报出不得更改的价格，采购⼈从询价⼩组提出的成交候选⼈中确定成\\n交供应商的采购⽅式。\\n第\\n第三三条 条 采购⼈、采购代理机构采购以下货物、⼯程和服务之⼀的，可以采\\n⽤竞争性谈判、单⼀来源采购⽅式采购；\\n采购货物的，还可以采⽤询价采购⽅\\n式：\\n（⼀）依法制定的集中采购⽬录以内，且未达到公开招标数额标准的货物、服\\n务；\\n（⼆）依法制定的集中采购⽬录以外、采购限额标准以上，且未达到公开招标\\n数额标准的货物、服务；'"
      ]
     },
     "execution_count": 192,
     "metadata": {},
     "output_type": "execute_result"
    }
   ],
   "source": [
    "pdf_texts = list(pdfs.values())\n",
    "pdf_texts[0]"
   ]
  },
  {
   "cell_type": "code",
   "execution_count": 194,
   "id": "206e695f-9361-4027-914c-5a29d1cc3c1c",
   "metadata": {},
   "outputs": [],
   "source": [
    "#Sentences are encoded by calling model.encode()\n",
    "pdf_embeddings = model.encode(pdf_texts)"
   ]
  },
  {
   "cell_type": "code",
   "execution_count": 197,
   "id": "260be157-3c85-4ab5-bba1-a23ef3601262",
   "metadata": {},
   "outputs": [
    {
     "data": {
      "text/plain": [
       "10"
      ]
     },
     "execution_count": 197,
     "metadata": {},
     "output_type": "execute_result"
    }
   ],
   "source": [
    "len(pdf_embeddings)"
   ]
  },
  {
   "cell_type": "code",
   "execution_count": 198,
   "id": "f97acb4a-8aae-4297-8aeb-9aac5835cbd0",
   "metadata": {},
   "outputs": [],
   "source": [
    "text_len = 512\n",
    "review_len = 20\n",
    "docx_texts = []"
   ]
  },
  {
   "cell_type": "code",
   "execution_count": 199,
   "id": "24a3c00b-15d6-40bd-bf32-bba929c54ebc",
   "metadata": {},
   "outputs": [],
   "source": [
    "for idx in range(0, len(docxs), text_len) :\n",
    "    if idx == 0:\n",
    "        docx_texts.append(docxs[: idx + text_len])\n",
    "    else:\n",
    "        docx_texts.append(docxs[idx - review_len: idx + text_len])"
   ]
  },
  {
   "cell_type": "code",
   "execution_count": 200,
   "id": "812aa4bd-7ac9-4bd1-87d6-68a272068cd5",
   "metadata": {},
   "outputs": [
    {
     "data": {
      "text/plain": [
       "(24,\n",
       " '法干涉评标活动，影响中标结果；(三)以其他方式非法干涉招标投标活动。第八十一条\\u3000依法必须进行招标的项目的招标投标活动违反招标投标法和本条例的规定，对中标结果造成实质性影响，且不能采取补救措施予以纠正的，招标、投标、中标无效，应当依法重新招标或者评标。第七章\\u3000附则第八十二条\\u3000招标投标协会按照依法制定的章程开展活动，加强行业自律和服务。第八十三条\\u3000政府采购的法律、行政法规对政府采购货物、服务的招标投标另有规定的，从其规定。第八十四条\\u3000本条例自2012年2月1日起施行。')"
      ]
     },
     "execution_count": 200,
     "metadata": {},
     "output_type": "execute_result"
    }
   ],
   "source": [
    "len(docx_texts), docx_texts[-1]"
   ]
  },
  {
   "cell_type": "code",
   "execution_count": 201,
   "id": "4f897bba-0c1a-4b82-8a55-6c96b1ca11b2",
   "metadata": {},
   "outputs": [],
   "source": [
    "docx_embeddings = model.encode(docx_texts)"
   ]
  },
  {
   "cell_type": "code",
   "execution_count": 202,
   "id": "7c28295e-7ff1-4582-90a6-42448e97d03f",
   "metadata": {},
   "outputs": [
    {
     "data": {
      "text/plain": [
       "24"
      ]
     },
     "execution_count": 202,
     "metadata": {},
     "output_type": "execute_result"
    }
   ],
   "source": [
    "len(docx_embeddings)"
   ]
  },
  {
   "cell_type": "markdown",
   "id": "a8b5cc5c-0064-4731-b963-0b57477e4de5",
   "metadata": {},
   "source": [
    "### 向量化存储"
   ]
  },
  {
   "cell_type": "code",
   "execution_count": 204,
   "id": "3f8ed1ac-2f7f-4486-abd5-991e83a3e298",
   "metadata": {},
   "outputs": [],
   "source": [
    "from pymilvus import MilvusClient"
   ]
  },
  {
   "cell_type": "code",
   "execution_count": 205,
   "id": "d69a107b-0eea-44e4-be85-b9a53419d662",
   "metadata": {},
   "outputs": [
    {
     "name": "stderr",
     "output_type": "stream",
     "text": [
      "huggingface/tokenizers: The current process just got forked, after parallelism has already been used. Disabling parallelism to avoid deadlocks...\n",
      "To disable this warning, you can either:\n",
      "\t- Avoid using `tokenizers` before the fork if possible\n",
      "\t- Explicitly set the environment variable TOKENIZERS_PARALLELISM=(true | false)\n"
     ]
    }
   ],
   "source": [
    "milvus_client = MilvusClient(uri=\"../../knowledge/vector_knowledge/laws.db\")"
   ]
  },
  {
   "cell_type": "code",
   "execution_count": 208,
   "id": "12f3d4b1-78fd-4d13-9822-6c0f3235d204",
   "metadata": {},
   "outputs": [],
   "source": [
    "embedding_dim = len(pdf_embeddings[0])\n",
    "collection_name = \"laws_collection\""
   ]
  },
  {
   "cell_type": "code",
   "execution_count": 209,
   "id": "2f6a1e18-61f6-4bd9-a599-e6bd9ef92ac8",
   "metadata": {},
   "outputs": [],
   "source": [
    "milvus_client.create_collection(\n",
    "    collection_name=collection_name,\n",
    "    dimension=embedding_dim,\n",
    "    metric_type=\"IP\",  # Inner product distance\n",
    "    consistency_level=\"Strong\",  # Supported values are (`\"Strong\"`, `\"Session\"`, `\"Bounded\"`, `\"Eventually\"`). See https://milvus.io/docs/consistency.md#Consistency-Level for more details.\n",
    ")"
   ]
  },
  {
   "cell_type": "code",
   "execution_count": 210,
   "id": "4c0c015c-29bd-41f8-bffc-cfdc1f16f717",
   "metadata": {},
   "outputs": [],
   "source": [
    "data = []\n",
    "idx = 0\n",
    "for sentence, embedding in zip(pdf_texts, pdf_embeddings):\n",
    "    data.append({\"id\": idx, \"sentence\": sentence, \"vector\": embedding, \"from_doc\": None})\n",
    "    idx += 1\n",
    "\n",
    "\n",
    "for sentence, embedding in zip(docx_texts, docx_embeddings):\n",
    "    data.append({\"id\": idx, \"sentence\": sentence, \"vector\": embedding, \"from_doc\": None})\n",
    "    idx += 1   "
   ]
  },
  {
   "cell_type": "code",
   "execution_count": 211,
   "id": "13ccd83b-4a2b-41b7-912f-1d0c65e80918",
   "metadata": {},
   "outputs": [
    {
     "data": {
      "text/plain": [
       "{'insert_count': 34, 'ids': [0, 1, 2, 3, 4, 5, 6, 7, 8, 9, 10, 11, 12, 13, 14, 15, 16, 17, 18, 19, 20, 21, 22, 23, 24, 25, 26, 27, 28, 29, 30, 31, 32, 33], 'cost': 0}"
      ]
     },
     "execution_count": 211,
     "metadata": {},
     "output_type": "execute_result"
    }
   ],
   "source": [
    "milvus_client.insert(collection_name=collection_name, data=data)"
   ]
  },
  {
   "cell_type": "code",
   "execution_count": null,
   "id": "705ce15d-3759-4ca5-8798-21ac998cb353",
   "metadata": {},
   "outputs": [],
   "source": []
  },
  {
   "cell_type": "markdown",
   "id": "fa07fa8f-45d3-44e1-9754-c0345ebd6d0a",
   "metadata": {},
   "source": [
    "## 匹配测试"
   ]
  },
  {
   "cell_type": "code",
   "execution_count": 228,
   "id": "892fd4bf-863c-4c7d-9f75-96416ccb8c89",
   "metadata": {},
   "outputs": [],
   "source": [
    "question = '投标人用他人的名义进行投标或者以其他方式弄虚作假骗取中标的情况怎么处理？'"
   ]
  },
  {
   "cell_type": "code",
   "execution_count": 236,
   "id": "0488b929-93be-4f69-9072-9a11275aff2f",
   "metadata": {},
   "outputs": [],
   "source": [
    "search_res = milvus_client.search(\n",
    "    collection_name=collection_name,\n",
    "    data=[\n",
    "        model.encode(question)\n",
    "    ],\n",
    "    \n",
    "    limit=3,  # Return top 3 results\n",
    "    search_params={\"metric_type\": \"IP\", \"params\": {}},  # Inner product distance\n",
    "    output_fields=[\"sentence\"],  # Return the sentence field\n",
    ")"
   ]
  },
  {
   "cell_type": "code",
   "execution_count": 237,
   "id": "48a6becd-470a-414f-952c-b08815b87610",
   "metadata": {},
   "outputs": [
    {
     "data": {
      "text/plain": [
       "[{'id': 29, 'distance': 328.5481872558594, 'entity': {'sentence': '标；(二)3年内2次以上使用他人名义投标；(三)弄虚作假骗取中标给招标人造成直接经济损失30万元以上；(四)其他弄虚作假骗取中标情节严重的行为。投标人自本条第二款规定的处罚执行期限届满之日起3年内又有该款所列违法行为之一的，或者弄虚作假骗取中标情节特别严重的，由工商行政管理机关吊销营业执照。第六十九条\\u3000出让或者出租资格、资质证书供他人投标的，依照法律、行政法规的规定给予行政处罚；构成犯罪的，依法追究刑事责任。第七十条\\u3000依法必须进行招标的项目的招标人不按照规定组建评标委员会，或者确定、更换评标委员会成员违反招标投标法和本条例规定的，由有关行政监督部门责令改正，可以处10万元以下的罚款，对单位直接负责的主管人员和其他直接责任人员依法给予处分；违法确定或者更换的评标委员会成员作出的评审结论无效，依法重新进行评审。国家工作人员以任何方式非法干涉选取评标委员会成员的，依照本条例第八十条的规定追究法律责任。第七十一条\\u3000评标委员会成员有下列行为之一的，由有关行政监督部门责令改正；情节严重的，禁止其在一定期限内参加依法必须进行招标的项目的评标；情节特别严重的，取消其担任评标委员会成员的资格：(一)应当回避而不回避；(二)擅离职守；(三)不按照招标文件规定的评标标准'}}, {'id': 30, 'distance': 322.4468994140625, 'entity': {'sentence': '职守；(三)不按照招标文件规定的评标标准和方法评标；(四)私下接触投标人；(五)向招标人征询确定中标人的意向或者接受任何单位或者个人明示或者暗示提出的倾向或者排斥特定投标人的要求；(六)对依法应当否决的投标不提出否决意见；(七)暗示或者诱导投标人作出澄清、说明或者接受投标人主动提出的澄清、说明；(八)其他不客观、不公正履行职务的行为。第七十二条\\u3000评标委员会成员收受投标人的财物或者其他好处的，没收收受的财物，处3000元以上5万元以下的罚款，取消担任评标委员会成员的资格，不得再参加依法必须进行招标的项目的评标；构成犯罪的，依法追究刑事责任。第七十三条\\u3000依法必须进行招标的项目的招标人有下列情形之一的，由有关行政监督部门责令改正，可以处中标项目金额10‰以下的罚款；给他人造成损失的，依法承担赔偿责任；对单位直接负责的主管人员和其他直接责任人员依法给予处分：(一)无正当理由不发出中标通知书；(二)不按照规定确定中标人；(三)中标通知书发出后无正当理由改变中标结果；(四)无正当理由不与中标人订立合同；(五)在订立合同时向中标人提出附加条件。第七十四条\\u3000中标人无正当理由不与招标人订立合同，在签订合同时向招标人提出附加条件，或者不按照招标文件要求提交履约保证金的'}}, {'id': 23, 'distance': 322.0547790527344, 'entity': {'sentence': '的，评标委员会应当否决其投标：(一)投标文件未经投标单位盖章和单位负责人签字；(二)投标联合体没有提交共同投标协议；(三)投标人不符合国家或者招标文件规定的资格条件；(四)同一投标人提交两个以上不同的投标文件或者投标报价，但招标文件要求提交备选投标的除外；(五)投标报价低于成本或者高于招标文件设定的最高投标限价；(六)投标文件没有对招标文件的实质性要求和条件作出响应；(七)投标人有串通投标、弄虚作假、行贿等违法行为。第五十二条\\u3000投标文件中有含义不明确的内容、明显文字或者计算错误，评标委员会认为需要投标人作出必要澄清、说明的，应当书面通知该投标人。投标人的澄清、说明应当采用书面形式，并不得超出投标文件的范围或者改变投标文件的实质性内容。评标委员会不得暗示或者诱导投标人作出澄清、说明，不得接受投标人主动提出的澄清、说明。第五十三条\\u3000评标完成后，评标委员会应当向招标人提交书面评标报告和中标候选人名单。中标候选人应当不超过3个，并标明排序。评标报告应当由评标委员会全体成员签字。对评标结果有不同意见的评标委员会成员应当以书面形式说明其不同意见和理由，评标报告应当注明该不同意见。评标委员会成员拒绝在评标报告上签字又不书面说明其不同意见和理由的，视为同意评标结果'}}]"
      ]
     },
     "execution_count": 237,
     "metadata": {},
     "output_type": "execute_result"
    }
   ],
   "source": [
    "search_res[0]"
   ]
  },
  {
   "cell_type": "code",
   "execution_count": 238,
   "id": "f5e965d0-0768-4147-9f1d-3102ff259ffb",
   "metadata": {},
   "outputs": [
    {
     "data": {
      "text/plain": [
       "'标；(二)3年内2次以上使用他人名义投标；(三)弄虚作假骗取中标给招标人造成直接经济损失30万元以上；(四)其他弄虚作假骗取中标情节严重的行为。投标人自本条第二款规定的处罚执行期限届满之日起3年内又有该款所列违法行为之一的，或者弄虚作假骗取中标情节特别严重的，由工商行政管理机关吊销营业执照。第六十九条\\u3000出让或者出租资格、资质证书供他人投标的，依照法律、行政法规的规定给予行政处罚；构成犯罪的，依法追究刑事责任。第七十条\\u3000依法必须进行招标的项目的招标人不按照规定组建评标委员会，或者确定、更换评标委员会成员违反招标投标法和本条例规定的，由有关行政监督部门责令改正，可以处10万元以下的罚款，对单位直接负责的主管人员和其他直接责任人员依法给予处分；违法确定或者更换的评标委员会成员作出的评审结论无效，依法重新进行评审。国家工作人员以任何方式非法干涉选取评标委员会成员的，依照本条例第八十条的规定追究法律责任。第七十一条\\u3000评标委员会成员有下列行为之一的，由有关行政监督部门责令改正；情节严重的，禁止其在一定期限内参加依法必须进行招标的项目的评标；情节特别严重的，取消其担任评标委员会成员的资格：(一)应当回避而不回避；(二)擅离职守；(三)不按照招标文件规定的评标标准'"
      ]
     },
     "execution_count": 238,
     "metadata": {},
     "output_type": "execute_result"
    }
   ],
   "source": [
    "search_res[0][0]['entity']['sentence']"
   ]
  },
  {
   "cell_type": "code",
   "execution_count": 239,
   "id": "73703139-0c19-46a8-8f21-217a8f6d5bc6",
   "metadata": {},
   "outputs": [],
   "source": [
    "context = \"\\n\".join(\n",
    "    [res['entity']['sentence'] for res in search_res[0]]\n",
    ")"
   ]
  },
  {
   "cell_type": "code",
   "execution_count": 240,
   "id": "70d45eee-0fc0-4320-9d4b-8095a8a3ba94",
   "metadata": {},
   "outputs": [
    {
     "data": {
      "text/plain": [
       "'标；(二)3年内2次以上使用他人名义投标；(三)弄虚作假骗取中标给招标人造成直接经济损失30万元以上；(四)其他弄虚作假骗取中标情节严重的行为。投标人自本条第二款规定的处罚执行期限届满之日起3年内又有该款所列违法行为之一的，或者弄虚作假骗取中标情节特别严重的，由工商行政管理机关吊销营业执照。第六十九条\\u3000出让或者出租资格、资质证书供他人投标的，依照法律、行政法规的规定给予行政处罚；构成犯罪的，依法追究刑事责任。第七十条\\u3000依法必须进行招标的项目的招标人不按照规定组建评标委员会，或者确定、更换评标委员会成员违反招标投标法和本条例规定的，由有关行政监督部门责令改正，可以处10万元以下的罚款，对单位直接负责的主管人员和其他直接责任人员依法给予处分；违法确定或者更换的评标委员会成员作出的评审结论无效，依法重新进行评审。国家工作人员以任何方式非法干涉选取评标委员会成员的，依照本条例第八十条的规定追究法律责任。第七十一条\\u3000评标委员会成员有下列行为之一的，由有关行政监督部门责令改正；情节严重的，禁止其在一定期限内参加依法必须进行招标的项目的评标；情节特别严重的，取消其担任评标委员会成员的资格：(一)应当回避而不回避；(二)擅离职守；(三)不按照招标文件规定的评标标准\\n职守；(三)不按照招标文件规定的评标标准和方法评标；(四)私下接触投标人；(五)向招标人征询确定中标人的意向或者接受任何单位或者个人明示或者暗示提出的倾向或者排斥特定投标人的要求；(六)对依法应当否决的投标不提出否决意见；(七)暗示或者诱导投标人作出澄清、说明或者接受投标人主动提出的澄清、说明；(八)其他不客观、不公正履行职务的行为。第七十二条\\u3000评标委员会成员收受投标人的财物或者其他好处的，没收收受的财物，处3000元以上5万元以下的罚款，取消担任评标委员会成员的资格，不得再参加依法必须进行招标的项目的评标；构成犯罪的，依法追究刑事责任。第七十三条\\u3000依法必须进行招标的项目的招标人有下列情形之一的，由有关行政监督部门责令改正，可以处中标项目金额10‰以下的罚款；给他人造成损失的，依法承担赔偿责任；对单位直接负责的主管人员和其他直接责任人员依法给予处分：(一)无正当理由不发出中标通知书；(二)不按照规定确定中标人；(三)中标通知书发出后无正当理由改变中标结果；(四)无正当理由不与中标人订立合同；(五)在订立合同时向中标人提出附加条件。第七十四条\\u3000中标人无正当理由不与招标人订立合同，在签订合同时向招标人提出附加条件，或者不按照招标文件要求提交履约保证金的\\n的，评标委员会应当否决其投标：(一)投标文件未经投标单位盖章和单位负责人签字；(二)投标联合体没有提交共同投标协议；(三)投标人不符合国家或者招标文件规定的资格条件；(四)同一投标人提交两个以上不同的投标文件或者投标报价，但招标文件要求提交备选投标的除外；(五)投标报价低于成本或者高于招标文件设定的最高投标限价；(六)投标文件没有对招标文件的实质性要求和条件作出响应；(七)投标人有串通投标、弄虚作假、行贿等违法行为。第五十二条\\u3000投标文件中有含义不明确的内容、明显文字或者计算错误，评标委员会认为需要投标人作出必要澄清、说明的，应当书面通知该投标人。投标人的澄清、说明应当采用书面形式，并不得超出投标文件的范围或者改变投标文件的实质性内容。评标委员会不得暗示或者诱导投标人作出澄清、说明，不得接受投标人主动提出的澄清、说明。第五十三条\\u3000评标完成后，评标委员会应当向招标人提交书面评标报告和中标候选人名单。中标候选人应当不超过3个，并标明排序。评标报告应当由评标委员会全体成员签字。对评标结果有不同意见的评标委员会成员应当以书面形式说明其不同意见和理由，评标报告应当注明该不同意见。评标委员会成员拒绝在评标报告上签字又不书面说明其不同意见和理由的，视为同意评标结果'"
      ]
     },
     "execution_count": 240,
     "metadata": {},
     "output_type": "execute_result"
    }
   ],
   "source": [
    "context"
   ]
  },
  {
   "cell_type": "code",
   "execution_count": 241,
   "id": "32a4ce3f-81bb-409b-a389-3fec79aeace8",
   "metadata": {},
   "outputs": [],
   "source": [
    "SYSTEM_PROMPT = \"\"\"\n",
    "Human: 你是一个法律助手，你可以通过所给匹配的法律知识库内容中找到问题的答案并整理\n",
    "\"\"\"\n",
    "USER_PROMPT = f\"\"\"\n",
    "使用以下包含在<context>标记中的信息片段来回答<question>标记中包含的问题。\n",
    "<context>\n",
    "{context}\n",
    "</context>\n",
    "<question>\n",
    "{question}\n",
    "</question>\n",
    "\"\"\""
   ]
  },
  {
   "cell_type": "code",
   "execution_count": 243,
   "id": "6f918844-c5ac-4a54-a37f-724ef7d1bff6",
   "metadata": {},
   "outputs": [],
   "source": [
    "from dotenv import load_dotenv\n",
    "import os\n",
    "\n",
    "# 加载特定路径的 .env 文件\n",
    "load_dotenv(\".env\")\n",
    "\n",
    "DEEPSEEK_API_KEY = os.getenv(\"API_KEY\")"
   ]
  },
  {
   "cell_type": "code",
   "execution_count": 244,
   "id": "923e28c9-b312-41fa-a586-a73b162f68a1",
   "metadata": {},
   "outputs": [
    {
     "name": "stdout",
     "output_type": "stream",
     "text": [
      "根据提供的法律知识库内容，对投标人使用他人名义投标或弄虚作假骗取中标的行为处理如下：\n",
      "\n",
      "1. **行政处罚**：\n",
      "   - 投标人有下列情形之一的，属于弄虚作假骗取中标，将受到相应处罚（具体条款未明确处罚幅度，但属于严重违法行为）：\n",
      "     (1) 使用伪造、变造的许可证件；\n",
      "     (2) 3年内2次以上使用他人名义投标；\n",
      "     (3) 弄虚作假骗取中标给招标人造成直接经济损失30万元以上；\n",
      "     (4) 其他情节严重的行为。\n",
      "\n",
      "2. **加重处罚**：\n",
      "   - 若投标人在前次处罚执行期满后3年内再次实施同类违法行为，或情节特别严重的，**由工商行政管理机关吊销营业执照**。\n",
      "\n",
      "3. **刑事责任**：\n",
      "   - 若行为构成犯罪（如诈骗、伪造证件等），将**依法追究刑事责任**。\n",
      "\n",
      "4. **关联责任**：\n",
      "   - 出让或出租资格、资质证书供他人投标的，也将面临行政处罚或刑事责任（第六十九条）。\n",
      "\n",
      "依据上述规定，处理措施包括罚款、吊销营业执照及刑事追责，具体适用取决于违法情节的严重程度和是否构成犯罪。"
     ]
    }
   ],
   "source": [
    "# Please install OpenAI SDK first: `pip3 install openai`\n",
    "\n",
    "from openai import OpenAI\n",
    "\n",
    "\n",
    "client = OpenAI(api_key=DEEPSEEK_API_KEY, base_url=\"https://api.deepseek.com\")\n",
    "\n",
    "response = client.chat.completions.create(\n",
    "    model=\"deepseek-chat\",\n",
    "    messages=[\n",
    "        {\"role\": \"system\", \"content\": SYSTEM_PROMPT},\n",
    "        {\"role\": \"user\", \"content\": USER_PROMPT},\n",
    "    ],\n",
    "    stream=True\n",
    ")\n",
    "\n",
    "full_response = \"\"\n",
    "for chunk in response:\n",
    "    if chunk.choices[0].delta.content:  # 检查是否有新内容\n",
    "        content = chunk.choices[0].delta.content\n",
    "        print(content, end=\"\", flush=True)  # 逐字打印\n",
    "        full_response += content"
   ]
  },
  {
   "cell_type": "code",
   "execution_count": null,
   "id": "5063291b-065f-4d0f-a74c-9ebb0b919dd7",
   "metadata": {},
   "outputs": [],
   "source": []
  }
 ],
 "metadata": {
  "kernelspec": {
   "display_name": "Python 3 (ipykernel)",
   "language": "python",
   "name": "python3"
  },
  "language_info": {
   "codemirror_mode": {
    "name": "ipython",
    "version": 3
   },
   "file_extension": ".py",
   "mimetype": "text/x-python",
   "name": "python",
   "nbconvert_exporter": "python",
   "pygments_lexer": "ipython3",
   "version": "3.12.9"
  }
 },
 "nbformat": 4,
 "nbformat_minor": 5
}
