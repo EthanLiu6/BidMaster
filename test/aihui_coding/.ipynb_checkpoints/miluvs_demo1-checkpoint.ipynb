{
 "cells": [
  {
   "cell_type": "markdown",
   "metadata": {},
   "source": [
    "# 一、基本数据读取处理"
   ]
  },
  {
   "cell_type": "code",
   "execution_count": 45,
   "metadata": {},
   "outputs": [],
   "source": [
    "from docx import Document\n",
    "\n",
    "def read_docx(file_path):\n",
    "\n",
    "    doc = Document(file_path)\n",
    "    full_text = []\n",
    "    for para in doc.paragraphs:\n",
    "        full_text.append(para.text)\n",
    "    return ''.join(full_text)"
   ]
  },
  {
   "cell_type": "code",
   "execution_count": 46,
   "metadata": {},
   "outputs": [],
   "source": [
    "file_path = r'../aihui_data/unstructural_data/laws/中华人民共和国招标投标法实施条例.docx'\n",
    "content = read_docx(file_path)"
   ]
  },
  {
   "cell_type": "code",
   "execution_count": 3,
   "metadata": {},
   "outputs": [
    {
     "data": {
      "text/plain": [
       "11990"
      ]
     },
     "execution_count": 3,
     "metadata": {},
     "output_type": "execute_result"
    }
   ],
   "source": [
    "len(content)"
   ]
  },
  {
   "cell_type": "code",
   "execution_count": 4,
   "metadata": {},
   "outputs": [
    {
     "data": {
      "text/plain": [
       "'中华人民共和国招标投标法实施条例(201'"
      ]
     },
     "execution_count": 4,
     "metadata": {},
     "output_type": "execute_result"
    }
   ],
   "source": [
    "content[: 20]"
   ]
  },
  {
   "cell_type": "code",
   "execution_count": 5,
   "metadata": {},
   "outputs": [],
   "source": [
    "review_num = 18\n",
    "sentence_len = 512"
   ]
  },
  {
   "cell_type": "code",
   "execution_count": 6,
   "metadata": {},
   "outputs": [],
   "source": [
    "sentences = []\n",
    "for i in range(0, len(content), sentence_len):\n",
    "    if i == 0:\n",
    "        # print(content[: i + sentence_len])\n",
    "        sentences.append(content[: i + sentence_len])\n",
    "    else:\n",
    "        sentences.append(content[i-review_num: i + sentence_len])\n",
    "    "
   ]
  },
  {
   "cell_type": "code",
   "execution_count": 7,
   "metadata": {},
   "outputs": [
    {
     "data": {
      "text/plain": [
       "24"
      ]
     },
     "execution_count": 7,
     "metadata": {},
     "output_type": "execute_result"
    }
   ],
   "source": [
    "len(sentences)"
   ]
  },
  {
   "cell_type": "code",
   "execution_count": 8,
   "metadata": {},
   "outputs": [
    {
     "data": {
      "text/plain": [
       "'中华人民共和国招标投标法实施条例(2011年12月20日中华人民共和国国务院令第613号公布\\u3000根据2017年3月1日《国务院关于修改和废止部分行政法规的决定》第一次修订\\u3000根据2018年3月19日《国务院关于修改和废止部分行政法规的决定》第二次修订\\u3000根据2019年3月2日《国务院关于修改部分行政法规的决定》第三次修订)第一章\\u3000总则第一条\\u3000为了规范招标投标活动，根据《中华人民共和国招标投标法》(以下简称招标投标法)，制定本条例。第二条\\u3000招标投标法第三条所称工程建设项目，是指工程以及与工程建设有关的货物、服务。前款所称工程，是指建设工程，包括建筑物和构筑物的新建、改建、扩建及其相关的装修、拆除、修缮等；所称与工程建设有关的货物，是指构成工程不可分割的组成部分，且为实现工程基本功能所必需的设备、材料等；所称与工程建设有关的服务，是指为完成工程所需的勘察、设计、监理等服务。第三条\\u3000依法必须进行招标的工程建设项目的具体范围和规模标准，由国务院发展改革部门会同国务院有关部门制订，报国务院批准后公布施行。第四条\\u3000国务院发展改革部门指导和协调全国招标投标工作，对国家重大建设项目的工程招标投标活动实施监督检查。国务院工业和信息化'"
      ]
     },
     "execution_count": 8,
     "metadata": {},
     "output_type": "execute_result"
    }
   ],
   "source": [
    "sentences[0]"
   ]
  },
  {
   "cell_type": "markdown",
   "metadata": {},
   "source": [
    "# 二、知识向量数据库搭建"
   ]
  },
  {
   "cell_type": "markdown",
   "metadata": {},
   "source": [
    "## 1. 使用m3e-base Embedding"
   ]
  },
  {
   "cell_type": "markdown",
   "metadata": {
    "jp-MarkdownHeadingCollapsed": true
   },
   "source": [
    "[官方接口说明文档](https://huggingface.co/moka-ai/m3e-base)\n",
    "\n",
    "```python\n",
    "from sentence_transformers import SentenceTransformer\n",
    "\n",
    "model = SentenceTransformer('moka-ai/m3e-base')\n",
    "\n",
    "#Our sentences we like to encode\n",
    "sentences = [\n",
    "    '* Moka 此文本嵌入模型由 MokaAI 训练并开源，训练脚本使用 uniem',\n",
    "    '* Massive 此文本嵌入模型通过**千万级**的中文句对数据集进行训练',\n",
    "    '* Mixed 此文本嵌入模型支持中英双语的同质文本相似度计算，异质文本检索等功能，未来还会支持代码检索，ALL in one'\n",
    "]\n",
    "\n",
    "#Sentences are encoded by calling model.encode()\n",
    "embeddings = model.encode(sentences)\n",
    "\n",
    "#Print the embeddings\n",
    "for sentence, embedding in zip(sentences, embeddings):\n",
    "    print(\"Sentence:\", sentence)\n",
    "    print(\"Embedding:\", embedding)\n",
    "    print(\"\")\n",
    "```"
   ]
  },
  {
   "cell_type": "code",
   "execution_count": 9,
   "metadata": {},
   "outputs": [],
   "source": [
    "# !pip install -U sentence-transformers -q\n",
    "# !pip install tqdm -q"
   ]
  },
  {
   "cell_type": "code",
   "execution_count": 10,
   "metadata": {},
   "outputs": [
    {
     "name": "stderr",
     "output_type": "stream",
     "text": [
      "/Users/ethanliu/miniconda3/envs/BidMaster_p12/lib/python3.12/site-packages/tqdm/auto.py:21: TqdmWarning: IProgress not found. Please update jupyter and ipywidgets. See https://ipywidgets.readthedocs.io/en/stable/user_install.html\n",
      "  from .autonotebook import tqdm as notebook_tqdm\n"
     ]
    }
   ],
   "source": [
    "from sentence_transformers import SentenceTransformer\n",
    "\n",
    "model = SentenceTransformer('moka-ai/m3e-base')\n",
    "\n",
    "#Sentences are encoded by calling model.encode()\n",
    "embeddings = model.encode(sentences)"
   ]
  },
  {
   "cell_type": "code",
   "execution_count": 11,
   "metadata": {},
   "outputs": [
    {
     "name": "stdout",
     "output_type": "stream",
     "text": [
      "Sentence: 中华人\n",
      "Embedding: [ 0.57080156 -0.13708766  0.77856547]\n",
      "Sentence_len==Embedding_len: False\n",
      "Sentence_len512, Embedding_len768\n"
     ]
    }
   ],
   "source": [
    "#Print the embeddings\n",
    "for sentence, embedding in zip(sentences, embeddings):\n",
    "    print(\"Sentence:\", sentence[: 3])\n",
    "    print(\"Embedding:\", embedding[: 3])\n",
    "    print(\"Sentence_len==Embedding_len:\", len(sentence)==len(embedding))\n",
    "    print(\"Sentence_len%s, Embedding_len%s\" %(len(sentence), len(embedding)))\n",
    "    break"
   ]
  },
  {
   "cell_type": "code",
   "execution_count": 27,
   "metadata": {},
   "outputs": [
    {
     "data": {
      "text/plain": [
       "(24, 24)"
      ]
     },
     "execution_count": 27,
     "metadata": {},
     "output_type": "execute_result"
    }
   ],
   "source": [
    "len(sentences), len(embeddings)"
   ]
  },
  {
   "cell_type": "code",
   "execution_count": 29,
   "metadata": {},
   "outputs": [
    {
     "name": "stdout",
     "output_type": "stream",
     "text": [
      "0.57080156\n"
     ]
    }
   ],
   "source": [
    "for embedding in embeddings:\n",
    "    for one in embedding:\n",
    "        print(one)\n",
    "        break\n",
    "    break"
   ]
  },
  {
   "cell_type": "code",
   "execution_count": 31,
   "metadata": {},
   "outputs": [
    {
     "data": {
      "text/plain": [
       "(768,)"
      ]
     },
     "execution_count": 31,
     "metadata": {},
     "output_type": "execute_result"
    }
   ],
   "source": [
    "embeddings[0].shape"
   ]
  },
  {
   "cell_type": "markdown",
   "metadata": {},
   "source": [
    "## 2. 向量存储（使用milvus）"
   ]
  },
  {
   "cell_type": "markdown",
   "metadata": {},
   "source": [
    "官方文档：[milvus](https://milvus.io/docs/zh/build-rag-with-milvus.md)"
   ]
  },
  {
   "cell_type": "code",
   "execution_count": 12,
   "metadata": {},
   "outputs": [],
   "source": [
    "# !pip install --upgrade pymilvus"
   ]
  },
  {
   "cell_type": "code",
   "execution_count": 14,
   "metadata": {},
   "outputs": [],
   "source": [
    "import os\n",
    "os.environ[\"TOKENIZERS_PARALLELISM\"] = \"false\""
   ]
  },
  {
   "cell_type": "code",
   "execution_count": 15,
   "metadata": {},
   "outputs": [],
   "source": [
    "from pymilvus import MilvusClient\n",
    "\n",
    "milvus_client = MilvusClient(uri=\"../aihui_db/milvus_demo1.db\")"
   ]
  },
  {
   "cell_type": "code",
   "execution_count": 16,
   "metadata": {},
   "outputs": [],
   "source": [
    "embedding_dim = len(embeddings[0])\n",
    "collection_name = \"laws_collection\""
   ]
  },
  {
   "cell_type": "code",
   "execution_count": 17,
   "metadata": {},
   "outputs": [],
   "source": [
    "milvus_client.create_collection(\n",
    "    collection_name=collection_name,\n",
    "    dimension=embedding_dim,\n",
    "    metric_type=\"IP\",  # Inner product distance\n",
    "    consistency_level=\"Strong\",  # Supported values are (`\"Strong\"`, `\"Session\"`, `\"Bounded\"`, `\"Eventually\"`). See https://milvus.io/docs/consistency.md#Consistency-Level for more details.\n",
    ")"
   ]
  },
  {
   "cell_type": "code",
   "execution_count": 32,
   "metadata": {},
   "outputs": [],
   "source": [
    "from tqdm import tqdm\n",
    "data = []\n",
    "idx = 0\n",
    "for sentence, embedding in zip(sentences, embeddings):\n",
    "    data.append({\"id\": idx, \"sentence\": sentence, \"vector\": embedding, \"from_doc\": None})\n",
    "    idx += 1\n",
    "    "
   ]
  },
  {
   "cell_type": "code",
   "execution_count": 33,
   "metadata": {},
   "outputs": [],
   "source": [
    "# data[0]"
   ]
  },
  {
   "cell_type": "code",
   "execution_count": 34,
   "metadata": {},
   "outputs": [
    {
     "data": {
      "text/plain": [
       "{'insert_count': 24, 'ids': [0, 1, 2, 3, 4, 5, 6, 7, 8, 9, 10, 11, 12, 13, 14, 15, 16, 17, 18, 19, 20, 21, 22, 23], 'cost': 0}"
      ]
     },
     "execution_count": 34,
     "metadata": {},
     "output_type": "execute_result"
    }
   ],
   "source": [
    "milvus_client.insert(collection_name=collection_name, data=data)"
   ]
  },
  {
   "cell_type": "markdown",
   "metadata": {},
   "source": [
    "## 3. 测试向量匹配"
   ]
  },
  {
   "cell_type": "code",
   "execution_count": 35,
   "metadata": {},
   "outputs": [],
   "source": [
    "question = '投标人用他人的名义进行投标或者以其他方式弄虚作假骗取中标的情况怎么处理？'"
   ]
  },
  {
   "cell_type": "code",
   "execution_count": 36,
   "metadata": {},
   "outputs": [],
   "source": [
    "search_res = milvus_client.search(\n",
    "    collection_name=collection_name,\n",
    "    data=[\n",
    "        model.encode(question)\n",
    "    ],\n",
    "    \n",
    "    limit=6,  # Return top 6 results\n",
    "    search_params={\"metric_type\": \"IP\", \"params\": {}},  # Inner product distance\n",
    "    output_fields=[\"sentence\"],  # Return the sentence field\n",
    ")"
   ]
  },
  {
   "cell_type": "code",
   "execution_count": 37,
   "metadata": {},
   "outputs": [
    {
     "data": {
      "text/plain": [
       "pymilvus.client.search_result.Hit"
      ]
     },
     "execution_count": 37,
     "metadata": {},
     "output_type": "execute_result"
    }
   ],
   "source": [
    "# search_res\n",
    "type(search_res[0][0])"
   ]
  },
  {
   "cell_type": "code",
   "execution_count": 38,
   "metadata": {},
   "outputs": [
    {
     "data": {
      "text/plain": [
       "'(二)3年内2次以上使用他人名义投标；(三)弄虚作假骗取中标给招标人造成直接经济损失30万元以上；(四)其他弄虚作假骗取中标情节严重的行为。投标人自本条第二款规定的处罚执行期限届满之日起3年内又有该款所列违法行为之一的，或者弄虚作假骗取中标情节特别严重的，由工商行政管理机关吊销营业执照。第六十九条\\u3000出让或者出租资格、资质证书供他人投标的，依照法律、行政法规的规定给予行政处罚；构成犯罪的，依法追究刑事责任。第七十条\\u3000依法必须进行招标的项目的招标人不按照规定组建评标委员会，或者确定、更换评标委员会成员违反招标投标法和本条例规定的，由有关行政监督部门责令改正，可以处10万元以下的罚款，对单位直接负责的主管人员和其他直接责任人员依法给予处分；违法确定或者更换的评标委员会成员作出的评审结论无效，依法重新进行评审。国家工作人员以任何方式非法干涉选取评标委员会成员的，依照本条例第八十条的规定追究法律责任。第七十一条\\u3000评标委员会成员有下列行为之一的，由有关行政监督部门责令改正；情节严重的，禁止其在一定期限内参加依法必须进行招标的项目的评标；情节特别严重的，取消其担任评标委员会成员的资格：(一)应当回避而不回避；(二)擅离职守；(三)不按照招标文件规定的评标标准'"
      ]
     },
     "execution_count": 38,
     "metadata": {},
     "output_type": "execute_result"
    }
   ],
   "source": [
    "search_res[0][0]['entity']['sentence']"
   ]
  },
  {
   "cell_type": "code",
   "execution_count": 39,
   "metadata": {},
   "outputs": [
    {
     "data": {
      "text/plain": [
       "data: [[{'id': 19, 'distance': 329.318603515625, 'entity': {'sentence': '(二)3年内2次以上使用他人名义投标；(三)弄虚作假骗取中标给招标人造成直接经济损失30万元以上；(四)其他弄虚作假骗取中标情节严重的行为。投标人自本条第二款规定的处罚执行期限届满之日起3年内又有该款所列违法行为之一的，或者弄虚作假骗取中标情节特别严重的，由工商行政管理机关吊销营业执照。第六十九条\\u3000出让或者出租资格、资质证书供他人投标的，依照法律、行政法规的规定给予行政处罚；构成犯罪的，依法追究刑事责任。第七十条\\u3000依法必须进行招标的项目的招标人不按照规定组建评标委员会，或者确定、更换评标委员会成员违反招标投标法和本条例规定的，由有关行政监督部门责令改正，可以处10万元以下的罚款，对单位直接负责的主管人员和其他直接责任人员依法给予处分；违法确定或者更换的评标委员会成员作出的评审结论无效，依法重新进行评审。国家工作人员以任何方式非法干涉选取评标委员会成员的，依照本条例第八十条的规定追究法律责任。第七十一条\\u3000评标委员会成员有下列行为之一的，由有关行政监督部门责令改正；情节严重的，禁止其在一定期限内参加依法必须进行招标的项目的评标；情节特别严重的，取消其担任评标委员会成员的资格：(一)应当回避而不回避；(二)擅离职守；(三)不按照招标文件规定的评标标准'}}, {'id': 20, 'distance': 325.72259521484375, 'entity': {'sentence': '；(三)不按照招标文件规定的评标标准和方法评标；(四)私下接触投标人；(五)向招标人征询确定中标人的意向或者接受任何单位或者个人明示或者暗示提出的倾向或者排斥特定投标人的要求；(六)对依法应当否决的投标不提出否决意见；(七)暗示或者诱导投标人作出澄清、说明或者接受投标人主动提出的澄清、说明；(八)其他不客观、不公正履行职务的行为。第七十二条\\u3000评标委员会成员收受投标人的财物或者其他好处的，没收收受的财物，处3000元以上5万元以下的罚款，取消担任评标委员会成员的资格，不得再参加依法必须进行招标的项目的评标；构成犯罪的，依法追究刑事责任。第七十三条\\u3000依法必须进行招标的项目的招标人有下列情形之一的，由有关行政监督部门责令改正，可以处中标项目金额10‰以下的罚款；给他人造成损失的，依法承担赔偿责任；对单位直接负责的主管人员和其他直接责任人员依法给予处分：(一)无正当理由不发出中标通知书；(二)不按照规定确定中标人；(三)中标通知书发出后无正当理由改变中标结果；(四)无正当理由不与中标人订立合同；(五)在订立合同时向中标人提出附加条件。第七十四条\\u3000中标人无正当理由不与招标人订立合同，在签订合同时向招标人提出附加条件，或者不按照招标文件要求提交履约保证金的'}}]]"
      ]
     },
     "execution_count": 39,
     "metadata": {},
     "output_type": "execute_result"
    }
   ],
   "source": [
    "search_res"
   ]
  },
  {
   "cell_type": "code",
   "execution_count": 40,
   "metadata": {},
   "outputs": [
    {
     "data": {
      "text/plain": [
       "2"
      ]
     },
     "execution_count": 40,
     "metadata": {},
     "output_type": "execute_result"
    }
   ],
   "source": [
    "len(search_res[0])"
   ]
  },
  {
   "cell_type": "markdown",
   "metadata": {},
   "source": [
    "## 4. 使用json解析"
   ]
  },
  {
   "cell_type": "code",
   "execution_count": 41,
   "metadata": {},
   "outputs": [
    {
     "name": "stdout",
     "output_type": "stream",
     "text": [
      "[\n",
      "    [\n",
      "        \"(二)3年内2次以上使用他人名义投标；(三)弄虚作假骗取中标给招标人造成直接经济损失30万元以上；(四)其他弄虚作假骗取中标情节严重的行为。投标人自本条第二款规定的处罚执行期限届满之日起3年内又有该款所列违法行为之一的，或者弄虚作假骗取中标情节特别严重的，由工商行政管理机关吊销营业执照。第六十九条　出让或者出租资格、资质证书供他人投标的，依照法律、行政法规的规定给予行政处罚；构成犯罪的，依法追究刑事责任。第七十条　依法必须进行招标的项目的招标人不按照规定组建评标委员会，或者确定、更换评标委员会成员违反招标投标法和本条例规定的，由有关行政监督部门责令改正，可以处10万元以下的罚款，对单位直接负责的主管人员和其他直接责任人员依法给予处分；违法确定或者更换的评标委员会成员作出的评审结论无效，依法重新进行评审。国家工作人员以任何方式非法干涉选取评标委员会成员的，依照本条例第八十条的规定追究法律责任。第七十一条　评标委员会成员有下列行为之一的，由有关行政监督部门责令改正；情节严重的，禁止其在一定期限内参加依法必须进行招标的项目的评标；情节特别严重的，取消其担任评标委员会成员的资格：(一)应当回避而不回避；(二)擅离职守；(三)不按照招标文件规定的评标标准\",\n",
      "        329.318603515625\n",
      "    ],\n",
      "    [\n",
      "        \"；(三)不按照招标文件规定的评标标准和方法评标；(四)私下接触投标人；(五)向招标人征询确定中标人的意向或者接受任何单位或者个人明示或者暗示提出的倾向或者排斥特定投标人的要求；(六)对依法应当否决的投标不提出否决意见；(七)暗示或者诱导投标人作出澄清、说明或者接受投标人主动提出的澄清、说明；(八)其他不客观、不公正履行职务的行为。第七十二条　评标委员会成员收受投标人的财物或者其他好处的，没收收受的财物，处3000元以上5万元以下的罚款，取消担任评标委员会成员的资格，不得再参加依法必须进行招标的项目的评标；构成犯罪的，依法追究刑事责任。第七十三条　依法必须进行招标的项目的招标人有下列情形之一的，由有关行政监督部门责令改正，可以处中标项目金额10‰以下的罚款；给他人造成损失的，依法承担赔偿责任；对单位直接负责的主管人员和其他直接责任人员依法给予处分：(一)无正当理由不发出中标通知书；(二)不按照规定确定中标人；(三)中标通知书发出后无正当理由改变中标结果；(四)无正当理由不与中标人订立合同；(五)在订立合同时向中标人提出附加条件。第七十四条　中标人无正当理由不与招标人订立合同，在签订合同时向招标人提出附加条件，或者不按照招标文件要求提交履约保证金的\",\n",
      "        325.72259521484375\n",
      "    ]\n",
      "]\n"
     ]
    }
   ],
   "source": [
    "import json\n",
    "\n",
    "retrieved_lines_with_distances = [\n",
    "    (res[\"entity\"][\"sentence\"], res[\"distance\"]) for res in search_res[0]\n",
    "]\n",
    "print(json.dumps(retrieved_lines_with_distances, indent=4, ensure_ascii=False))"
   ]
  },
  {
   "cell_type": "markdown",
   "metadata": {},
   "source": [
    "# 三、问答搭建（使用DeepSeek）"
   ]
  },
  {
   "cell_type": "code",
   "execution_count": 42,
   "metadata": {},
   "outputs": [],
   "source": [
    "context = \"\\n\".join(\n",
    "    [line_with_distance[0] for line_with_distance in retrieved_lines_with_distances]\n",
    ")"
   ]
  },
  {
   "cell_type": "code",
   "execution_count": 43,
   "metadata": {},
   "outputs": [
    {
     "data": {
      "text/plain": [
       "1061"
      ]
     },
     "execution_count": 43,
     "metadata": {},
     "output_type": "execute_result"
    }
   ],
   "source": [
    "len(context)"
   ]
  },
  {
   "cell_type": "code",
   "execution_count": 44,
   "metadata": {},
   "outputs": [],
   "source": [
    "SYSTEM_PROMPT = \"\"\"\n",
    "Human: 你是一个人工智能助手。你可以通过知识库内容中找到问题的答案并整理\n",
    "\"\"\"\n",
    "USER_PROMPT = f\"\"\"\n",
    "使用以下包含在<context>标记中的信息片段来回答<question>标记中包含的问题。\n",
    "<context>\n",
    "{context}\n",
    "</context>\n",
    "<question>\n",
    "{question}\n",
    "</question>\n",
    "\"\"\""
   ]
  },
  {
   "cell_type": "code",
   "execution_count": 224,
   "metadata": {},
   "outputs": [
    {
     "name": "stdout",
     "output_type": "stream",
     "text": [
      "根据提供的上下文内容，对投标人使用他人名义投标或弄虚作假骗取中标的行为处理规定如下：\n",
      "\n",
      "1. **行政处罚**：\n",
      "   - 3年内2次以上使用他人名义投标的（第二款第二项）\n",
      "   - 弄虚作假骗取中标造成招标人直接经济损失30万元以上的（第二款第三项）\n",
      "   - 其他情节严重或特别严重的弄虚作假行为（第二款第四项）\n",
      "\n",
      "2. **加重处罚**：\n",
      "   - 若投标人在处罚执行期满后3年内再次违法，或情节特别严重的，由工商行政管理机关**吊销营业执照**。\n",
      "\n",
      "3. **连带责任**：\n",
      "   - 出让或出租资格、资质证书供他人投标的（第六十九条）：\n",
      "     - 依法律法规给予行政处罚；\n",
      "     - 构成犯罪的，依法追究刑事责任。\n",
      "\n",
      "4. **法律依据**：\n",
      "   - 相关行为的中标无效（第六十七条）；\n",
      "   - 构成串通投标或行贿的，按《招标投标法》第五十三条处罚；\n",
      "   - 构成犯罪的，追究刑事责任。\n",
      "\n",
      "综上，处理措施包括罚款、中标无效、吊销营业执照、追究刑事责任等，具体根据违法情节严重程度和后果判定。"
     ]
    }
   ],
   "source": [
    "# Please install OpenAI SDK first: `pip3 install openai`\n",
    "\n",
    "from openai import OpenAI\n",
    "\n",
    "DEEPSEEK_API_KEY = 'xxxxxx'\n",
    "\n",
    "client = OpenAI(api_key=DEEPSEEK_API_KEY, base_url=\"https://api.deepseek.com\")\n",
    "\n",
    "response = client.chat.completions.create(\n",
    "    model=\"deepseek-chat\",\n",
    "    messages=[\n",
    "        {\"role\": \"system\", \"content\": SYSTEM_PROMPT},\n",
    "        {\"role\": \"user\", \"content\": USER_PROMPT},\n",
    "    ],\n",
    "    stream=True\n",
    ")\n",
    "\n",
    "full_response = \"\"\n",
    "for chunk in response:\n",
    "    if chunk.choices[0].delta.content:  # 检查是否有新内容\n",
    "        content = chunk.choices[0].delta.content\n",
    "        print(content, end=\"\", flush=True)  # 逐字打印\n",
    "        full_response += content"
   ]
  },
  {
   "cell_type": "code",
   "execution_count": 225,
   "metadata": {},
   "outputs": [],
   "source": [
    "question = '钻了招投标的采购空子怎么处理？'"
   ]
  },
  {
   "cell_type": "code",
   "execution_count": 226,
   "metadata": {},
   "outputs": [],
   "source": [
    "search_res = milvus_client.search(\n",
    "    collection_name=collection_name,\n",
    "    data=[\n",
    "        model.encode(question)\n",
    "    ],\n",
    "    \n",
    "    limit=4,  # Return top 4 results\n",
    "    search_params={\"metric_type\": \"IP\", \"params\": {}},  # Inner product distance\n",
    "    output_fields=[\"sentence\"],  # Return the sentence field\n",
    ")"
   ]
  },
  {
   "cell_type": "code",
   "execution_count": 227,
   "metadata": {},
   "outputs": [
    {
     "data": {
      "text/plain": [
       "'招标而采用邀请招标；(二)招标文件、资格预审文件的发售、澄清、修改的时限，或者确定的提交资格预审申请文件、投标文件的时限不符合招标投标法和本条例规定；(三)接受未通过资格预审的单位或者个人参加投标；(四)接受应当拒收的投标文件。招标人有前款第一项、第三项、第四项所列行为之一的，对单位直接负责的主管人员和其他直接责任人员依法给予处分。第六十五条\\u3000招标代理机构在所代理的招标项目中投标、代理投标或者向该项目投标人提供咨询的，接受委托编制标底的中介机构参加受托编制标底项目的投标或者为该项目的投标人编制投标文件、提供咨询的，依照招标投标法第五十条的规定追究法律责任。第六十六条\\u3000招标人超过本条例规定的比例收取投标保证金、履约保证金或者不按照规定退还投标保证金及银行同期存款利息的，由有关行政监督部门责令改正，可以处5万元以下的罚款；给他人造成损失的，依法承担赔偿责任。第六十七条\\u3000投标人相互串通投标或者与招标人串通投标的，投标人向招标人或者评标委员会成员行贿谋取中标的，中标无效；构成犯罪的，依法追究刑事责任；尚不构成犯罪的，依照招标投标法第五十三条的规定处罚。投标人未中标的，对单位的罚款金额按照招标项目合同金额依照招标投标法规定的比例计算。投标人有下列行为之一'"
      ]
     },
     "execution_count": 227,
     "metadata": {},
     "output_type": "execute_result"
    }
   ],
   "source": [
    "search_res[0][0]['entity']['sentence']"
   ]
  },
  {
   "cell_type": "code",
   "execution_count": 228,
   "metadata": {},
   "outputs": [
    {
     "name": "stdout",
     "output_type": "stream",
     "text": [
      "[\n",
      "    [\n",
      "        \"招标而采用邀请招标；(二)招标文件、资格预审文件的发售、澄清、修改的时限，或者确定的提交资格预审申请文件、投标文件的时限不符合招标投标法和本条例规定；(三)接受未通过资格预审的单位或者个人参加投标；(四)接受应当拒收的投标文件。招标人有前款第一项、第三项、第四项所列行为之一的，对单位直接负责的主管人员和其他直接责任人员依法给予处分。第六十五条　招标代理机构在所代理的招标项目中投标、代理投标或者向该项目投标人提供咨询的，接受委托编制标底的中介机构参加受托编制标底项目的投标或者为该项目的投标人编制投标文件、提供咨询的，依照招标投标法第五十条的规定追究法律责任。第六十六条　招标人超过本条例规定的比例收取投标保证金、履约保证金或者不按照规定退还投标保证金及银行同期存款利息的，由有关行政监督部门责令改正，可以处5万元以下的罚款；给他人造成损失的，依法承担赔偿责任。第六十七条　投标人相互串通投标或者与招标人串通投标的，投标人向招标人或者评标委员会成员行贿谋取中标的，中标无效；构成犯罪的，依法追究刑事责任；尚不构成犯罪的，依照招标投标法第五十三条的规定处罚。投标人未中标的，对单位的罚款金额按照招标项目合同金额依照招标投标法规定的比例计算。投标人有下列行为之一\",\n",
      "        310.2008361816406\n",
      "    ],\n",
      "    [\n",
      "        \"通报有关行政监督部门。第八条　国有资金占控股或者主导地位的依法必须进行招标的项目，应当公开招标；但有下列情形之一的，可以邀请招标：(一)技术复杂、有特殊要求或者受自然环境限制，只有少量潜在投标人可供选择；(二)采用公开招标方式的费用占项目合同金额的比例过大。有前款第二项所列情形，属于本条例第七条规定的项目，由项目审批、核准部门在审批、核准项目时作出认定；其他项目由招标人申请有关行政监督部门作出认定。第九条　除招标投标法第六十六条规定的可以不进行招标的特殊情况外，有下列情形之一的，可以不进行招标：(一)需要采用不可替代的专利或者专有技术；(二)采购人依法能够自行建设、生产或者提供；(三)已通过招标方式选定的特许经营项目投资人依法能够自行建设、生产或者提供；(四)需要向原中标人采购工程、货物或者服务，否则将影响施工或者功能配套要求；(五)国家规定的其他特殊情形。招标人为适用前款规定弄虚作假的，属于招标投标法第四条规定的规避招标。第十条　招标投标法第十二条第二款规定的招标人具有编制招标文件和组织评标能力，是指招标人具有与招标项目规模和复杂程度相适应的技术、经济等方面的专业人员。第十一条　国务院住房城乡建设、商务、发展改革、工业和信息化等部门，按照规定\",\n",
      "        308.491455078125\n",
      "    ]\n",
      "]\n"
     ]
    }
   ],
   "source": [
    "retrieved_lines_with_distances = [\n",
    "    (res[\"entity\"][\"sentence\"], res[\"distance\"]) for res in search_res[0]\n",
    "]\n",
    "print(json.dumps(retrieved_lines_with_distances, indent=4, ensure_ascii=False))"
   ]
  },
  {
   "cell_type": "code",
   "execution_count": 229,
   "metadata": {},
   "outputs": [
    {
     "data": {
      "text/plain": [
       "1061"
      ]
     },
     "execution_count": 229,
     "metadata": {},
     "output_type": "execute_result"
    }
   ],
   "source": [
    "context = \"\\n\".join(\n",
    "    [line_with_distance[0] for line_with_distance in retrieved_lines_with_distances]\n",
    ")\n",
    "len(context)"
   ]
  },
  {
   "cell_type": "code",
   "execution_count": 230,
   "metadata": {},
   "outputs": [],
   "source": [
    "response = client.chat.completions.create(\n",
    "    model=\"deepseek-chat\",\n",
    "    messages=[\n",
    "        {\"role\": \"system\", \"content\": SYSTEM_PROMPT},\n",
    "        {\"role\": \"user\", \"content\": USER_PROMPT},\n",
    "    ],\n",
    "    stream=True\n",
    ")"
   ]
  },
  {
   "cell_type": "code",
   "execution_count": 231,
   "metadata": {},
   "outputs": [
    {
     "name": "stdout",
     "output_type": "stream",
     "text": [
      "根据提供的上下文内容，对投标人使用他人名义投标或弄虚作假骗取中标的行为处理规定如下：\n",
      "\n",
      "1. **基本处罚情形**（对应第二条、第三条）：\n",
      "   - 3年内2次以上使用他人名义投标的；\n",
      "   - 弄虚作假骗取中标并给招标人造成直接经济损失30万元以上的；\n",
      "   - 其他情节严重的弄虚作假行为。\n",
      "\n",
      "2. **加重处罚情形**：\n",
      "   - 若投标人在处罚执行期满后3年内再次实施上述违法行为；\n",
      "   - 或弄虚作假情节特别严重的（如多次欺诈、造成重大损失等）。\n",
      "\n",
      "3. **具体处罚措施**：\n",
      "   - **行政处罚**：由工商行政管理机关吊销营业执照（针对情节特别严重或屡犯者）；\n",
      "   - **经济责任**：需依法赔偿招标人损失（如造成经济损失30万元以上）；\n",
      "   - **刑事责任**：若构成犯罪（如诈骗罪、串通投标罪等），依法追究刑事责任。\n",
      "\n",
      "4. **关联条款补充**：\n",
      "   - 根据第六十七条，串通投标或行贿谋取中标的，中标无效并可能追究刑事责任；\n",
      "   - 根据第七十二条，评标成员收受投标人财物协助造假的，将面临罚款、取消资格及刑事责任。\n",
      "\n",
      "**总结**：处理方式包括吊销执照、经济赔偿、行政处罚及刑事追责，具体根据行为频次、经济损失金额和情节严重程度综合判定。"
     ]
    }
   ],
   "source": [
    "full_response = \"\"\n",
    "for chunk in response:\n",
    "    if chunk.choices[0].delta.content:  # 检查是否有新内容\n",
    "        content = chunk.choices[0].delta.content\n",
    "        print(content, end=\"\", flush=True)  # 逐字打印\n",
    "        full_response += content"
   ]
  },
  {
   "cell_type": "code",
   "execution_count": null,
   "metadata": {},
   "outputs": [],
   "source": []
  }
 ],
 "metadata": {
  "kernelspec": {
   "display_name": "BidMaster_p12",
   "language": "python",
   "name": "bidmaster_p12"
  },
  "language_info": {
   "codemirror_mode": {
    "name": "ipython",
    "version": 3
   },
   "file_extension": ".py",
   "mimetype": "text/x-python",
   "name": "python",
   "nbconvert_exporter": "python",
   "pygments_lexer": "ipython3",
   "version": "3.12.9"
  }
 },
 "nbformat": 4,
 "nbformat_minor": 4
}
